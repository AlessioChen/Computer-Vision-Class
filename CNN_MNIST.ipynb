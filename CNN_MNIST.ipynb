{
  "nbformat": 4,
  "nbformat_minor": 0,
  "metadata": {
    "colab": {
      "provenance": [],
      "toc_visible": true,
      "gpuType": "T4",
      "authorship_tag": "ABX9TyOkl8/IT1dn/b83QEwOritb",
      "include_colab_link": true
    },
    "kernelspec": {
      "name": "python3",
      "display_name": "Python 3"
    },
    "language_info": {
      "name": "python"
    },
    "accelerator": "GPU"
  },
  "cells": [
    {
      "cell_type": "markdown",
      "metadata": {
        "id": "view-in-github",
        "colab_type": "text"
      },
      "source": [
        "<a href=\"https://colab.research.google.com/github/AlessioChen/Computer-Vision-Class/blob/main/CNN_MNIST.ipynb\" target=\"_parent\"><img src=\"https://colab.research.google.com/assets/colab-badge.svg\" alt=\"Open In Colab\"/></a>"
      ]
    },
    {
      "cell_type": "code",
      "execution_count": null,
      "metadata": {
        "id": "p1IZD2LUO4y_"
      },
      "outputs": [],
      "source": [
        "import torch\n",
        "import torch.nn as nn\n",
        "import torch.nn.functional as F\n",
        "import torch.optim as optim\n",
        "import numpy as np\n",
        "import matplotlib\n",
        "import matplotlib.pyplot as plt\n",
        "\n",
        "from torch.utils.data import DataLoader\n",
        "from torchvision import datasets, transforms\n",
        "from torchsummary import summary"
      ]
    },
    {
      "cell_type": "code",
      "source": [
        "# @title Train method\n",
        "def train(model, device, train_loader, optimizer, epoch):\n",
        "  model.train()\n",
        "  losses = []\n",
        "  for batch_idx, (data, target) in enumerate(train_loader):\n",
        "    data, target = data.to(device), target.to(device)\n",
        "    optimizer.zero_grad()\n",
        "\n",
        "    # Forward pass\n",
        "    output = model(data)\n",
        "\n",
        "    # Compute loss and save loss\n",
        "    loss = F.nll_loss(output, target)\n",
        "    losses.append(loss.item())\n",
        "\n",
        "    # Backword pass and optimization step\n",
        "    loss.backward()\n",
        "    optimizer.step()\n",
        "\n",
        "    if batch_idx % 500 == 0:\n",
        "      print('Train Epoch: {} [{}/{} ({:.0f}%)]\\tLoss: {:.6f}'.format(\n",
        "          epoch, batch_idx * len(data), len(train_loader.dataset),\n",
        "          100. * batch_idx / len(train_loader), loss.item()))\n",
        "\n",
        "  return np.mean(losses)"
      ],
      "metadata": {
        "cellView": "form",
        "id": "pemtw4_2TiCE"
      },
      "execution_count": null,
      "outputs": []
    },
    {
      "cell_type": "code",
      "source": [
        "# @title Test method\n",
        "def test(model, device, test_loader):\n",
        "  model.eval()\n",
        "  test_loss = 0\n",
        "  correct = 0\n",
        "\n",
        "  with torch.no_grad():\n",
        "    for data, target in test_loader:\n",
        "      data, target = data.to(device), target.to(device)\n",
        "\n",
        "      output = model(data)\n",
        "\n",
        "      # sum up batch loss\n",
        "      test_loss += F.nll_loss(output, target, reduction='sum').item()\n",
        "\n",
        "      # get the index of the max log-probability\n",
        "      pred = output.argmax(dim=1, keepdim=True)\n",
        "\n",
        "      # get number of correct predictions\n",
        "      correct += pred.eq(target.view_as(pred)).sum().item()\n",
        "\n",
        "  test_loss /= len(test_loader.dataset)\n",
        "  test_accuracy = correct / len(test_loader.dataset)\n",
        "\n",
        "  print('\\nTest set: Average loss: {:.4f}, Accuracy: {}/{} ({:.0f}%)\\n'.format(\n",
        "      test_loss, correct, len(test_loader.dataset),\n",
        "      100. * correct / len(test_loader.dataset)))\n",
        "\n",
        "  return test_loss, test_accuracy\n"
      ],
      "metadata": {
        "cellView": "form",
        "id": "w8z0OOUQUqbv"
      },
      "execution_count": null,
      "outputs": []
    },
    {
      "cell_type": "code",
      "source": [
        "# @title Train and evaluate\n",
        "def train_and_evaluate(model, train_loader, test_loader, num_epochs=5, learning_rate=0.01):\n",
        "\n",
        "\n",
        "\n",
        "\n",
        "    model.to(device)\n",
        "    optimizer = optim.SGD(model.parameters(), lr=lr)\n",
        "    train_losses = []\n",
        "    test_losses = []\n",
        "    test_accuracies = []\n",
        "\n",
        "    for epoch in range(1, num_epochs + 1):\n",
        "      train_losss = train(model, device, train_loader, optimizer, epoch)\n",
        "      test_loss, test_accuracy = test(model, device, test_loader)\n",
        "\n",
        "      train_losses.append(train_losss)\n",
        "      test_losses.append(test_loss)\n",
        "      test_accuracies.append(test_accuracy)\n",
        "      print(f'Epoch {epoch}/{num_epochs}, Loss: {train_losses[-1]:.4f}, Test Accuracy: {test_accuracy:.2f}%')\n",
        "\n",
        "    return train_losses, test_accuracies"
      ],
      "metadata": {
        "id": "osaGVSEliUjP"
      },
      "execution_count": null,
      "outputs": []
    },
    {
      "cell_type": "markdown",
      "source": [
        "# Download and transform MNIST dataset"
      ],
      "metadata": {
        "id": "XDo2bL_4P0yI"
      }
    },
    {
      "cell_type": "code",
      "source": [
        "transform=transforms.Compose([\n",
        "        transforms.ToTensor(),\n",
        "        transforms.Normalize((0.1307,), (0.3081,)) # Normalize matrix\n",
        "])\n",
        "\n",
        "train_dataset = datasets.MNIST(root='./data/', train=True, transform=transform, download=True)\n",
        "test_dataset = datasets.MNIST(root='./data/', train=False, transform=transform, download=True)\n",
        "\n",
        "\n",
        "print(train_dataset.data.shape)\n",
        "print(test_dataset.data.shape)"
      ],
      "metadata": {
        "colab": {
          "base_uri": "https://localhost:8080/"
        },
        "id": "vcesruE8P4UH",
        "outputId": "060094d9-4eca-471c-ea0c-896957057029"
      },
      "execution_count": null,
      "outputs": [
        {
          "output_type": "stream",
          "name": "stdout",
          "text": [
            "torch.Size([60000, 28, 28])\n",
            "torch.Size([10000, 28, 28])\n"
          ]
        }
      ]
    },
    {
      "cell_type": "code",
      "source": [
        "plt.imshow(train_dataset.data[50])\n",
        "plt.show()"
      ],
      "metadata": {
        "colab": {
          "base_uri": "https://localhost:8080/",
          "height": 430
        },
        "id": "CoRGWhx-RZ-3",
        "outputId": "745930bf-4f3a-4652-9ba1-744b0758f7fb"
      },
      "execution_count": null,
      "outputs": [
        {
          "output_type": "display_data",
          "data": {
            "text/plain": [
              "<Figure size 640x480 with 1 Axes>"
            ],
            "image/png": "[encoded data removed]"
          },
          "metadata": {}
        }
      ]
    },
    {
      "cell_type": "markdown",
      "source": [
        "# Network with one layer"
      ],
      "metadata": {
        "id": "hjSjGR3LPs6A"
      }
    },
    {
      "cell_type": "code",
      "source": [
        "class OneLayerNet(nn.Module):\n",
        "  def __init__(self):\n",
        "    super(OneLayerNet, self).__init__()\n",
        "    self.fc1 = nn.Linear(28*28, 10) # images are 28x28 pixels, 10 classes for output\n",
        "\n",
        "  def forward(self, x):\n",
        "    x = x.view(-1, 28*28) # flattern the image\n",
        "    x = self.fc1(x)\n",
        "    output = F.log_softmax(x, dim=1)\n",
        "    return output\n"
      ],
      "metadata": {
        "id": "fS4WtuPxQdnd"
      },
      "execution_count": null,
      "outputs": []
    },
    {
      "cell_type": "markdown",
      "source": [
        "# Multi layer perceptron\n"
      ],
      "metadata": {
        "id": "_u8E_I43Z3f1"
      }
    },
    {
      "cell_type": "code",
      "source": [
        "class MultiLayerPerceptrionNet(nn.Module):\n",
        "  def __init__(self):\n",
        "    super(MultiLayerPerceptrionNet, self).__init__()\n",
        "    self.fc1 = nn.Linear(28*28, 700)\n",
        "    self.fc2 = nn.Linear(700, 500)\n",
        "    self.fc3 = nn.Linear(500, 300)\n",
        "    self.fc4 = nn.Linear(300, 10)\n",
        "\n",
        "  def forward(self, x):\n",
        "    x = x.view(-1, 28*28) # flattern the image\n",
        "\n",
        "    x = self.fc1(x)\n",
        "    x = F.relu(x)\n",
        "\n",
        "    x = self.fc2(x)\n",
        "    x = F.relu(x)\n",
        "\n",
        "    x = self.fc3(x)\n",
        "    x = F.relu(x)\n",
        "\n",
        "    x = self.fc4(x)\n",
        "    output = F.log_softmax(x, dim=1)\n",
        "\n",
        "\n",
        "    return output"
      ],
      "metadata": {
        "id": "7gqe_wZYZ6yj"
      },
      "execution_count": null,
      "outputs": []
    },
    {
      "cell_type": "markdown",
      "source": [
        "# Convolutional Network"
      ],
      "metadata": {
        "id": "dX9MclXkXceO"
      }
    },
    {
      "cell_type": "code",
      "source": [
        "class ConvNet(nn.Module):\n",
        "  def __init__(self):\n",
        "    super(ConvNet, self).__init__()\n",
        "    self.conv1 = nn.Conv2d(1, 16, 3, 1) # input channels, output channels, kernel size, stride\n",
        "    self.conv2 = nn.Conv2d(16, 32, 3, 1)\n",
        "    self.fc1 = nn.Linear(32 * 12 * 12, 128)\n",
        "    self.fc2 = nn.Linear(128, 10)\n",
        "\n",
        "\n",
        "  def forward(self, x):\n",
        "    x = self.conv1(x)\n",
        "    x = F.relu(x)\n",
        "\n",
        "    x = self.conv2(x)\n",
        "    x = F.relu(x)\n",
        "\n",
        "    x = F.max_pool2d(x, 2)\n",
        "\n",
        "    x = torch.flatten(x, 1)\n",
        "\n",
        "    x = self.fc1(x)\n",
        "    x = F.relu(x)\n",
        "\n",
        "    x = self.fc2(x)\n",
        "    output = F.log_softmax(x, dim=1)\n",
        "\n",
        "    return output"
      ],
      "metadata": {
        "id": "HxQnCYysXgFF"
      },
      "execution_count": null,
      "outputs": []
    },
    {
      "cell_type": "markdown",
      "source": [
        "# Train each model and store the results"
      ],
      "metadata": {
        "id": "foaqWPJ8qYdg"
      }
    },
    {
      "cell_type": "code",
      "source": [
        "\n",
        "\n",
        "device = torch.device(\"cuda\" if torch.cuda.is_available() else \"cpu\")\n",
        "batch_size = 64\n",
        "num_epochs = 10\n",
        "lr = 0.001\n",
        "\n",
        "\n",
        "\n",
        "train_loader = DataLoader(dataset=train_dataset, batch_size=batch_size, shuffle=True)\n",
        "test_loader = DataLoader(dataset=test_dataset, batch_size=batch_size, shuffle=False)\n",
        "\n",
        "models = [OneLayerNet(), MultiLayerPerceptrionNet(), ConvNet()]\n",
        "model_names = ['oneLayer', 'MLP', 'Conv']\n",
        "train_losses_list = []\n",
        "test_accuracies_list = []\n",
        "\n",
        "for model,name in zip(models, model_names):\n",
        "  print(f'Training {name} model\\n')\n",
        "\n",
        "  train_losses, test_accuracy = train_and_evaluate(model, train_loader, test_loader, num_epochs, lr)\n",
        "\n",
        "  print(f'Finished training {name} model\\n')\n",
        "\n",
        "  train_losses_list.append(train_losses)\n",
        "  test_accuracies_list.append(test_accuracy)\n"
      ],
      "metadata": {
        "colab": {
          "base_uri": "https://localhost:8080/"
        },
        "id": "iFlqTjKRe-rz",
        "outputId": "30d1494e-f4cd-4966-a60f-2864ed0cffea"
      },
      "execution_count": null,
      "outputs": [
        {
          "output_type": "stream",
          "name": "stdout",
          "text": [
            "Training oneLayer model\n",
            "\n",
            "Train Epoch: 1 [0/60000 (0%)]\tLoss: 2.579242\n",
            "Train Epoch: 1 [32000/60000 (53%)]\tLoss: 0.819046\n",
            "\n",
            "Test set: Average loss: 0.5960, Accuracy: 8581/10000 (86%)\n",
            "\n",
            "Epoch 2/10, Loss: 1.0032, Test Accuracy: 0.86%\n",
            "Train Epoch: 2 [0/60000 (0%)]\tLoss: 0.641275\n",
            "Train Epoch: 2 [32000/60000 (53%)]\tLoss: 0.610994\n",
            "\n",
            "Test set: Average loss: 0.4708, Accuracy: 8784/10000 (88%)\n",
            "\n",
            "Epoch 3/10, Loss: 0.5484, Test Accuracy: 0.88%\n",
            "Train Epoch: 3 [0/60000 (0%)]\tLoss: 0.608606\n",
            "Train Epoch: 3 [32000/60000 (53%)]\tLoss: 0.425661\n",
            "\n",
            "Test set: Average loss: 0.4209, Accuracy: 8901/10000 (89%)\n",
            "\n",
            "Epoch 4/10, Loss: 0.4679, Test Accuracy: 0.89%\n",
            "Train Epoch: 4 [0/60000 (0%)]\tLoss: 0.514333\n",
            "Train Epoch: 4 [32000/60000 (53%)]\tLoss: 0.443804\n",
            "\n",
            "Test set: Average loss: 0.3928, Accuracy: 8970/10000 (90%)\n",
            "\n",
            "Epoch 5/10, Loss: 0.4290, Test Accuracy: 0.90%\n",
            "Train Epoch: 5 [0/60000 (0%)]\tLoss: 0.531102\n",
            "Train Epoch: 5 [32000/60000 (53%)]\tLoss: 0.315455\n",
            "\n",
            "Test set: Average loss: 0.3749, Accuracy: 8996/10000 (90%)\n",
            "\n",
            "Epoch 6/10, Loss: 0.4049, Test Accuracy: 0.90%\n",
            "Train Epoch: 6 [0/60000 (0%)]\tLoss: 0.462447\n",
            "Train Epoch: 6 [32000/60000 (53%)]\tLoss: 0.265296\n",
            "\n",
            "Test set: Average loss: 0.3618, Accuracy: 9010/10000 (90%)\n",
            "\n",
            "Epoch 7/10, Loss: 0.3883, Test Accuracy: 0.90%\n",
            "Train Epoch: 7 [0/60000 (0%)]\tLoss: 0.602112\n",
            "Train Epoch: 7 [32000/60000 (53%)]\tLoss: 0.391340\n",
            "\n",
            "Test set: Average loss: 0.3513, Accuracy: 9042/10000 (90%)\n",
            "\n",
            "Epoch 8/10, Loss: 0.3760, Test Accuracy: 0.90%\n",
            "Train Epoch: 8 [0/60000 (0%)]\tLoss: 0.307519\n",
            "Train Epoch: 8 [32000/60000 (53%)]\tLoss: 0.360846\n",
            "\n",
            "Test set: Average loss: 0.3432, Accuracy: 9065/10000 (91%)\n",
            "\n",
            "Epoch 9/10, Loss: 0.3662, Test Accuracy: 0.91%\n",
            "Train Epoch: 9 [0/60000 (0%)]\tLoss: 0.437893\n",
            "Train Epoch: 9 [32000/60000 (53%)]\tLoss: 0.348953\n",
            "\n",
            "Test set: Average loss: 0.3368, Accuracy: 9083/10000 (91%)\n",
            "\n",
            "Epoch 10/10, Loss: 0.3582, Test Accuracy: 0.91%\n",
            "Train Epoch: 10 [0/60000 (0%)]\tLoss: 0.365528\n",
            "Train Epoch: 10 [32000/60000 (53%)]\tLoss: 0.502003\n",
            "\n",
            "Test set: Average loss: 0.3316, Accuracy: 9102/10000 (91%)\n",
            "\n",
            "Epoch 11/10, Loss: 0.3516, Test Accuracy: 0.91%\n",
            "Finished training oneLayer model\n",
            "\n",
            "Training MLP model\n",
            "\n",
            "Train Epoch: 1 [0/60000 (0%)]\tLoss: 2.300910\n",
            "Train Epoch: 1 [32000/60000 (53%)]\tLoss: 2.268786\n",
            "\n",
            "Test set: Average loss: 2.2156, Accuracy: 5659/10000 (57%)\n",
            "\n",
            "Epoch 2/10, Loss: 2.2658, Test Accuracy: 0.57%\n",
            "Train Epoch: 2 [0/60000 (0%)]\tLoss: 2.224845\n",
            "Train Epoch: 2 [32000/60000 (53%)]\tLoss: 2.111917\n",
            "\n",
            "Test set: Average loss: 1.9830, Accuracy: 6754/10000 (68%)\n",
            "\n",
            "Epoch 3/10, Loss: 2.1266, Test Accuracy: 0.68%\n",
            "Train Epoch: 3 [0/60000 (0%)]\tLoss: 1.953881\n",
            "Train Epoch: 3 [32000/60000 (53%)]\tLoss: 1.721020\n",
            "\n",
            "Test set: Average loss: 1.3539, Accuracy: 7235/10000 (72%)\n",
            "\n",
            "Epoch 4/10, Loss: 1.7141, Test Accuracy: 0.72%\n",
            "Train Epoch: 4 [0/60000 (0%)]\tLoss: 1.397323\n",
            "Train Epoch: 4 [32000/60000 (53%)]\tLoss: 1.085864\n",
            "\n",
            "Test set: Average loss: 0.8398, Accuracy: 8005/10000 (80%)\n",
            "\n",
            "Epoch 5/10, Loss: 1.0811, Test Accuracy: 0.80%\n",
            "Train Epoch: 5 [0/60000 (0%)]\tLoss: 0.876812\n",
            "Train Epoch: 5 [32000/60000 (53%)]\tLoss: 0.715059\n",
            "\n",
            "Test set: Average loss: 0.6279, Accuracy: 8360/10000 (84%)\n",
            "\n",
            "Epoch 6/10, Loss: 0.7412, Test Accuracy: 0.84%\n",
            "Train Epoch: 6 [0/60000 (0%)]\tLoss: 0.745719\n",
            "Train Epoch: 6 [32000/60000 (53%)]\tLoss: 0.626227\n",
            "\n",
            "Test set: Average loss: 0.5198, Accuracy: 8598/10000 (86%)\n",
            "\n",
            "Epoch 7/10, Loss: 0.5885, Test Accuracy: 0.86%\n",
            "Train Epoch: 7 [0/60000 (0%)]\tLoss: 0.490968\n",
            "Train Epoch: 7 [32000/60000 (53%)]\tLoss: 0.528608\n",
            "\n",
            "Test set: Average loss: 0.4539, Accuracy: 8741/10000 (87%)\n",
            "\n",
            "Epoch 8/10, Loss: 0.5031, Test Accuracy: 0.87%\n",
            "Train Epoch: 8 [0/60000 (0%)]\tLoss: 0.269066\n",
            "Train Epoch: 8 [32000/60000 (53%)]\tLoss: 0.471935\n",
            "\n",
            "Test set: Average loss: 0.4116, Accuracy: 8857/10000 (89%)\n",
            "\n",
            "Epoch 9/10, Loss: 0.4483, Test Accuracy: 0.89%\n",
            "Train Epoch: 9 [0/60000 (0%)]\tLoss: 0.675339\n",
            "Train Epoch: 9 [32000/60000 (53%)]\tLoss: 0.302701\n",
            "\n",
            "Test set: Average loss: 0.3814, Accuracy: 8919/10000 (89%)\n",
            "\n",
            "Epoch 10/10, Loss: 0.4107, Test Accuracy: 0.89%\n",
            "Train Epoch: 10 [0/60000 (0%)]\tLoss: 0.351563\n",
            "Train Epoch: 10 [32000/60000 (53%)]\tLoss: 0.384350\n",
            "\n",
            "Test set: Average loss: 0.3572, Accuracy: 8985/10000 (90%)\n",
            "\n",
            "Epoch 11/10, Loss: 0.3830, Test Accuracy: 0.90%\n",
            "Finished training MLP model\n",
            "\n",
            "Training Conv model\n",
            "\n",
            "Train Epoch: 1 [0/60000 (0%)]\tLoss: 2.295815\n",
            "Train Epoch: 1 [32000/60000 (53%)]\tLoss: 1.626641\n",
            "\n",
            "Test set: Average loss: 0.5817, Accuracy: 8583/10000 (86%)\n",
            "\n",
            "Epoch 2/10, Loss: 1.5800, Test Accuracy: 0.86%\n",
            "Train Epoch: 2 [0/60000 (0%)]\tLoss: 0.737489\n",
            "Train Epoch: 2 [32000/60000 (53%)]\tLoss: 0.435244\n",
            "\n",
            "Test set: Average loss: 0.3521, Accuracy: 8976/10000 (90%)\n",
            "\n",
            "Epoch 3/10, Loss: 0.4391, Test Accuracy: 0.90%\n",
            "Train Epoch: 3 [0/60000 (0%)]\tLoss: 0.413195\n",
            "Train Epoch: 3 [32000/60000 (53%)]\tLoss: 0.407912\n",
            "\n",
            "Test set: Average loss: 0.2990, Accuracy: 9149/10000 (91%)\n",
            "\n",
            "Epoch 4/10, Loss: 0.3387, Test Accuracy: 0.91%\n",
            "Train Epoch: 4 [0/60000 (0%)]\tLoss: 0.415071\n",
            "Train Epoch: 4 [32000/60000 (53%)]\tLoss: 0.254705\n",
            "\n",
            "Test set: Average loss: 0.2743, Accuracy: 9211/10000 (92%)\n",
            "\n",
            "Epoch 5/10, Loss: 0.3014, Test Accuracy: 0.92%\n",
            "Train Epoch: 5 [0/60000 (0%)]\tLoss: 0.402236\n",
            "Train Epoch: 5 [32000/60000 (53%)]\tLoss: 0.322388\n",
            "\n",
            "Test set: Average loss: 0.2485, Accuracy: 9282/10000 (93%)\n",
            "\n",
            "Epoch 6/10, Loss: 0.2746, Test Accuracy: 0.93%\n",
            "Train Epoch: 6 [0/60000 (0%)]\tLoss: 0.252076\n",
            "Train Epoch: 6 [32000/60000 (53%)]\tLoss: 0.231774\n",
            "\n",
            "Test set: Average loss: 0.2349, Accuracy: 9309/10000 (93%)\n",
            "\n",
            "Epoch 7/10, Loss: 0.2528, Test Accuracy: 0.93%\n",
            "Train Epoch: 7 [0/60000 (0%)]\tLoss: 0.423520\n",
            "Train Epoch: 7 [32000/60000 (53%)]\tLoss: 0.238139\n",
            "\n",
            "Test set: Average loss: 0.2136, Accuracy: 9373/10000 (94%)\n",
            "\n",
            "Epoch 8/10, Loss: 0.2333, Test Accuracy: 0.94%\n",
            "Train Epoch: 8 [0/60000 (0%)]\tLoss: 0.171382\n",
            "Train Epoch: 8 [32000/60000 (53%)]\tLoss: 0.163021\n",
            "\n",
            "Test set: Average loss: 0.1987, Accuracy: 9410/10000 (94%)\n",
            "\n",
            "Epoch 9/10, Loss: 0.2169, Test Accuracy: 0.94%\n",
            "Train Epoch: 9 [0/60000 (0%)]\tLoss: 0.151044\n",
            "Train Epoch: 9 [32000/60000 (53%)]\tLoss: 0.262448\n",
            "\n",
            "Test set: Average loss: 0.1874, Accuracy: 9430/10000 (94%)\n",
            "\n",
            "Epoch 10/10, Loss: 0.2018, Test Accuracy: 0.94%\n",
            "Train Epoch: 10 [0/60000 (0%)]\tLoss: 0.096132\n",
            "Train Epoch: 10 [32000/60000 (53%)]\tLoss: 0.095657\n",
            "\n",
            "Test set: Average loss: 0.1799, Accuracy: 9472/10000 (95%)\n",
            "\n",
            "Epoch 11/10, Loss: 0.1882, Test Accuracy: 0.95%\n",
            "Finished training Conv model\n",
            "\n"
          ]
        }
      ]
    },
    {
      "cell_type": "code",
      "source": [
        "plt.figure(figsize=(12, 5))\n",
        "for i, name in enumerate(model_names):\n",
        "    plt.plot(train_losses_list[i], label=name)\n",
        "\n",
        "plt.xlabel('Epoch')\n",
        "plt.ylabel('Training Loss')\n",
        "plt.title('Training Loss for Each Model')\n",
        "plt.legend()\n",
        "plt.show()\n",
        "\n",
        "# Plot test accuracy\n",
        "plt.figure(figsize=(12, 5))\n",
        "for i, name in enumerate(model_names):\n",
        "    plt.plot(test_accuracies_list[i], label=name)\n",
        "plt.xlabel('Epoch')\n",
        "plt.ylabel('Test Accuracy (%)')\n",
        "plt.title('Test Accuracy for Each Model')\n",
        "plt.legend()\n",
        "plt.show()"
      ],
      "metadata": {
        "colab": {
          "base_uri": "https://localhost:8080/",
          "height": 957
        },
        "id": "SB4-tMW3jCWe",
        "outputId": "4a7f7ea2-dc7c-45b0-e34e-5865fb9d36e3"
      },
      "execution_count": null,
      "outputs": [
        {
          "output_type": "display_data",
          "data": {
            "text/plain": [
              "<Figure size 1200x500 with 1 Axes>"
            ],
            "image/png": "[encoded data removed]"
          },
          "metadata": {}
        },
        {
          "output_type": "display_data",
          "data": {
            "text/plain": [
              "<Figure size 1200x500 with 1 Axes>"
            ],
            "image/png": "[encoded data removed]"
          },
          "metadata": {}
        }
      ]
    },
    {
      "cell_type": "markdown",
      "source": [
        "# Show parameters"
      ],
      "metadata": {
        "id": "UxcUSgMjqh9c"
      }
    },
    {
      "cell_type": "code",
      "source": [
        "for model in models:\n",
        "  summary(model, (1, 28, 28))"
      ],
      "metadata": {
        "colab": {
          "base_uri": "https://localhost:8080/"
        },
        "id": "JmVtn5h3qN5b",
        "outputId": "2a4402fd-2d05-424c-9fdc-c48cb15308f3"
      },
      "execution_count": 131,
      "outputs": [
        {
          "output_type": "stream",
          "name": "stdout",
          "text": [
            "----------------------------------------------------------------\n",
            "        Layer (type)               Output Shape         Param #\n",
            "================================================================\n",
            "            Linear-1                   [-1, 10]           7,850\n",
            "================================================================\n",
            "Total params: 7,850\n",
            "Trainable params: 7,850\n",
            "Non-trainable params: 0\n",
            "----------------------------------------------------------------\n",
            "Input size (MB): 0.00\n",
            "Forward/backward pass size (MB): 0.00\n",
            "Params size (MB): 0.03\n",
            "Estimated Total Size (MB): 0.03\n",
            "----------------------------------------------------------------\n",
            "----------------------------------------------------------------\n",
            "        Layer (type)               Output Shape         Param #\n",
            "================================================================\n",
            "            Linear-1                  [-1, 700]         549,500\n",
            "            Linear-2                  [-1, 500]         350,500\n",
            "            Linear-3                  [-1, 300]         150,300\n",
            "            Linear-4                   [-1, 10]           3,010\n",
            "================================================================\n",
            "Total params: 1,053,310\n",
            "Trainable params: 1,053,310\n",
            "Non-trainable params: 0\n",
            "----------------------------------------------------------------\n",
            "Input size (MB): 0.00\n",
            "Forward/backward pass size (MB): 0.01\n",
            "Params size (MB): 4.02\n",
            "Estimated Total Size (MB): 4.03\n",
            "----------------------------------------------------------------\n",
            "----------------------------------------------------------------\n",
            "        Layer (type)               Output Shape         Param #\n",
            "================================================================\n",
            "            Conv2d-1           [-1, 16, 26, 26]             160\n",
            "            Conv2d-2           [-1, 32, 24, 24]           4,640\n",
            "            Linear-3                  [-1, 128]         589,952\n",
            "            Linear-4                   [-1, 10]           1,290\n",
            "================================================================\n",
            "Total params: 596,042\n",
            "Trainable params: 596,042\n",
            "Non-trainable params: 0\n",
            "----------------------------------------------------------------\n",
            "Input size (MB): 0.00\n",
            "Forward/backward pass size (MB): 0.22\n",
            "Params size (MB): 2.27\n",
            "Estimated Total Size (MB): 2.50\n",
            "----------------------------------------------------------------\n"
          ]
        }
      ]
    }
  ]
}