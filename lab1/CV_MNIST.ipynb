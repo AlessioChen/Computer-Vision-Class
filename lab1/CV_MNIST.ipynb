{
 "cells": [
  {
   "cell_type": "markdown",
   "metadata": {
    "colab_type": "text",
    "id": "view-in-github"
   },
   "source": [
    "<a href=\"https://colab.research.google.com/github/AlessioChen/Computer-Vision-Class/blob/main/CV_MNIST.ipynb\" target=\"_parent\"><img src=\"https://colab.research.google.com/assets/colab-badge.svg\" alt=\"Open In Colab\"/></a>"
   ]
  },
  {
   "cell_type": "code",
   "execution_count": 1,
   "metadata": {
    "id": "p1IZD2LUO4y_"
   },
   "outputs": [],
   "source": [
    "import torch\n",
    "import torch.nn as nn\n",
    "import torch.nn.functional as F\n",
    "import torch.optim as optim\n",
    "import numpy as np\n",
    "import matplotlib\n",
    "import matplotlib.pyplot as plt\n",
    "\n",
    "from torch.utils.data import DataLoader\n",
    "from torchvision import datasets, transforms\n",
    "from torchsummary import summary"
   ]
  },
  {
   "cell_type": "code",
   "execution_count": 2,
   "metadata": {
    "cellView": "form",
    "id": "pemtw4_2TiCE"
   },
   "outputs": [],
   "source": [
    "# @title Train method\n",
    "def train(model, device, train_loader, optimizer, epoch):\n",
    "  model.train()\n",
    "  losses = []\n",
    "  for batch_idx, (data, target) in enumerate(train_loader):\n",
    "    data, target = data.to(device), target.to(device)\n",
    "    optimizer.zero_grad()\n",
    "\n",
    "    # Forward pass\n",
    "    output = model(data)\n",
    "\n",
    "    # Compute loss and save loss\n",
    "    loss = F.nll_loss(output, target)\n",
    "    losses.append(loss.item())\n",
    "\n",
    "    # Backword pass and optimization step\n",
    "    loss.backward()\n",
    "    optimizer.step()\n",
    "\n",
    "    if batch_idx % 500 == 0:\n",
    "      print('Train Epoch: {} [{}/{} ({:.0f}%)]\\tLoss: {:.6f}'.format(\n",
    "          epoch, batch_idx * len(data), len(train_loader.dataset),\n",
    "          100. * batch_idx / len(train_loader), loss.item()))\n",
    "\n",
    "  return np.mean(losses)"
   ]
  },
  {
   "cell_type": "code",
   "execution_count": 3,
   "metadata": {
    "cellView": "form",
    "id": "w8z0OOUQUqbv"
   },
   "outputs": [],
   "source": [
    "# @title Test method\n",
    "def test(model, device, test_loader):\n",
    "  model.eval()\n",
    "  test_loss = 0\n",
    "  correct = 0\n",
    "\n",
    "  with torch.no_grad():\n",
    "    for data, target in test_loader:\n",
    "      data, target = data.to(device), target.to(device)\n",
    "\n",
    "      output = model(data)\n",
    "\n",
    "      # sum up batch loss\n",
    "      test_loss += F.nll_loss(output, target, reduction='sum').item()\n",
    "\n",
    "      # get the index of the max log-probability\n",
    "      pred = output.argmax(dim=1, keepdim=True)\n",
    "\n",
    "      # get number of correct predictions\n",
    "      correct += pred.eq(target.view_as(pred)).sum().item()\n",
    "\n",
    "  test_loss /= len(test_loader.dataset)\n",
    "  test_accuracy = correct / len(test_loader.dataset)\n",
    "\n",
    "  print('\\nTest set: Average loss: {:.4f}, Accuracy: {}/{} ({:.0f}%)\\n'.format(\n",
    "      test_loss, correct, len(test_loader.dataset),\n",
    "      100. * correct / len(test_loader.dataset)))\n",
    "\n",
    "  return test_loss, test_accuracy\n"
   ]
  },
  {
   "cell_type": "code",
   "execution_count": 4,
   "metadata": {
    "id": "osaGVSEliUjP"
   },
   "outputs": [],
   "source": [
    "# @title Train and evaluate\n",
    "def train_and_evaluate(model, train_loader, test_loader, num_epochs=5, learning_rate=0.01):\n",
    "\n",
    "\n",
    "\n",
    "\n",
    "    model.to(device)\n",
    "    optimizer = optim.SGD(model.parameters(), lr=lr)\n",
    "    train_losses = []\n",
    "    test_losses = []\n",
    "    test_accuracies = []\n",
    "\n",
    "    for epoch in range(1, num_epochs + 1):\n",
    "      train_losss = train(model, device, train_loader, optimizer, epoch)\n",
    "      test_loss, test_accuracy = test(model, device, test_loader)\n",
    "\n",
    "      train_losses.append(train_losss)\n",
    "      test_losses.append(test_loss)\n",
    "      test_accuracies.append(test_accuracy)\n",
    "      print(f'Epoch {epoch}/{num_epochs}, Loss: {train_losses[-1]:.4f}, Test Accuracy: {test_accuracy:.2f}%')\n",
    "\n",
    "    return train_losses, test_accuracies"
   ]
  },
  {
   "cell_type": "markdown",
   "metadata": {
    "id": "XDo2bL_4P0yI"
   },
   "source": [
    "# Download and transform MNIST dataset"
   ]
  },
  {
   "cell_type": "code",
   "execution_count": 5,
   "metadata": {
    "colab": {
     "base_uri": "https://localhost:8080/"
    },
    "id": "vcesruE8P4UH",
    "outputId": "060094d9-4eca-471c-ea0c-896957057029"
   },
   "outputs": [
    {
     "name": "stdout",
     "output_type": "stream",
     "text": [
      "torch.Size([60000, 28, 28])\n",
      "torch.Size([10000, 28, 28])\n"
     ]
    }
   ],
   "source": [
    "transform=transforms.Compose([\n",
    "        transforms.ToTensor(),\n",
    "        transforms.Normalize((0.1307,), (0.3081,)) # Normalize matrix\n",
    "])\n",
    "\n",
    "train_dataset = datasets.MNIST(root='./data/', train=True, transform=transform, download=True)\n",
    "test_dataset = datasets.MNIST(root='./data/', train=False, transform=transform, download=True)\n",
    "\n",
    "\n",
    "print(train_dataset.data.shape)\n",
    "print(test_dataset.data.shape)"
   ]
  },
  {
   "cell_type": "code",
   "execution_count": 6,
   "metadata": {
    "colab": {
     "base_uri": "https://localhost:8080/",
     "height": 430
    },
    "id": "CoRGWhx-RZ-3",
    "outputId": "745930bf-4f3a-4652-9ba1-744b0758f7fb"
   },
   "outputs": [
    {
     "data": {
      "image/png": "[encoded data removed]",
      "text/plain": [
       "<Figure size 640x480 with 1 Axes>"
      ]
     },
     "metadata": {},
     "output_type": "display_data"
    }
   ],
   "source": [
    "plt.imshow(train_dataset.data[50])\n",
    "plt.show()"
   ]
  },
  {
   "cell_type": "markdown",
   "metadata": {
    "id": "hjSjGR3LPs6A"
   },
   "source": [
    "# Network with one layer"
   ]
  },
  {
   "cell_type": "code",
   "execution_count": 7,
   "metadata": {
    "id": "fS4WtuPxQdnd"
   },
   "outputs": [],
   "source": [
    "class OneLayerNet(nn.Module):\n",
    "  def __init__(self):\n",
    "    super(OneLayerNet, self).__init__()\n",
    "    self.fc1 = nn.Linear(28*28, 10) # images are 28x28 pixels, 10 classes for output\n",
    "\n",
    "  def forward(self, x):\n",
    "    x = x.view(-1, 28*28) # flattern the image\n",
    "    x = self.fc1(x)\n",
    "    output = F.log_softmax(x, dim=1)\n",
    "    return output\n"
   ]
  },
  {
   "cell_type": "markdown",
   "metadata": {
    "id": "_u8E_I43Z3f1"
   },
   "source": [
    "# Multi layer perceptron\n"
   ]
  },
  {
   "cell_type": "code",
   "execution_count": 8,
   "metadata": {
    "id": "7gqe_wZYZ6yj"
   },
   "outputs": [],
   "source": [
    "class MultiLayerPerceptrionNet(nn.Module):\n",
    "  def __init__(self):\n",
    "    super(MultiLayerPerceptrionNet, self).__init__()\n",
    "    self.fc1 = nn.Linear(28*28, 700)\n",
    "    self.fc2 = nn.Linear(700, 500)\n",
    "    self.fc3 = nn.Linear(500, 300)\n",
    "    self.fc4 = nn.Linear(300, 10)\n",
    "\n",
    "  def forward(self, x):\n",
    "    x = x.view(-1, 28*28) # flattern the image\n",
    "\n",
    "    x = self.fc1(x)\n",
    "    x = F.relu(x)\n",
    "\n",
    "    x = self.fc2(x)\n",
    "    x = F.relu(x)\n",
    "\n",
    "    x = self.fc3(x)\n",
    "    x = F.relu(x)\n",
    "\n",
    "    x = self.fc4(x)\n",
    "    output = F.log_softmax(x, dim=1)\n",
    "\n",
    "\n",
    "    return output"
   ]
  },
  {
   "cell_type": "markdown",
   "metadata": {
    "id": "dX9MclXkXceO"
   },
   "source": [
    "# Convolutional Network"
   ]
  },
  {
   "cell_type": "code",
   "execution_count": 9,
   "metadata": {
    "id": "HxQnCYysXgFF"
   },
   "outputs": [],
   "source": [
    "class ConvNet(nn.Module):\n",
    "  def __init__(self):\n",
    "    super(ConvNet, self).__init__()\n",
    "    self.conv1 = nn.Conv2d(1, 16, 3, 1) # input channels, output channels, kernel size, stride\n",
    "    self.conv2 = nn.Conv2d(16, 32, 3, 1)\n",
    "    self.fc1 = nn.Linear(32 * 12 * 12, 128)\n",
    "    self.fc2 = nn.Linear(128, 10)\n",
    "\n",
    "\n",
    "  def forward(self, x):\n",
    "    x = self.conv1(x)\n",
    "    x = F.relu(x)\n",
    "\n",
    "    x = self.conv2(x)\n",
    "    x = F.relu(x)\n",
    "\n",
    "    x = F.max_pool2d(x, 2)\n",
    "\n",
    "    x = torch.flatten(x, 1)\n",
    "\n",
    "    x = self.fc1(x)\n",
    "    x = F.relu(x)\n",
    "\n",
    "    x = self.fc2(x)\n",
    "    output = F.log_softmax(x, dim=1)\n",
    "\n",
    "    return output"
   ]
  },
  {
   "cell_type": "markdown",
   "metadata": {
    "id": "foaqWPJ8qYdg"
   },
   "source": [
    "# Train each model and store the results"
   ]
  },
  {
   "cell_type": "code",
   "execution_count": null,
   "metadata": {
    "colab": {
     "base_uri": "https://localhost:8080/"
    },
    "id": "iFlqTjKRe-rz",
    "outputId": "30d1494e-f4cd-4966-a60f-2864ed0cffea"
   },
   "outputs": [
    {
     "name": "stdout",
     "output_type": "stream",
     "text": [
      "Training oneLayer model\n",
      "\n",
      "Train Epoch: 1 [0/60000 (0%)]\tLoss: 2.335724\n",
      "Train Epoch: 1 [32000/60000 (53%)]\tLoss: 0.812139\n",
      "\n",
      "Test set: Average loss: 0.5910, Accuracy: 8587/10000 (86%)\n",
      "\n",
      "Epoch 1/10, Loss: 0.9686, Test Accuracy: 0.86%\n",
      "Train Epoch: 2 [0/60000 (0%)]\tLoss: 0.519324\n",
      "Train Epoch: 2 [32000/60000 (53%)]\tLoss: 0.536689\n",
      "\n",
      "Test set: Average loss: 0.4682, Accuracy: 8818/10000 (88%)\n",
      "\n",
      "Epoch 2/10, Loss: 0.5426, Test Accuracy: 0.88%\n",
      "Train Epoch: 3 [0/60000 (0%)]\tLoss: 0.415453\n",
      "Train Epoch: 3 [32000/60000 (53%)]\tLoss: 0.533352\n",
      "\n",
      "Test set: Average loss: 0.4191, Accuracy: 8904/10000 (89%)\n",
      "\n",
      "Epoch 3/10, Loss: 0.4636, Test Accuracy: 0.89%\n",
      "Train Epoch: 4 [0/60000 (0%)]\tLoss: 0.498723\n",
      "Train Epoch: 4 [32000/60000 (53%)]\tLoss: 0.482896\n",
      "\n",
      "Test set: Average loss: 0.3912, Accuracy: 8964/10000 (90%)\n",
      "\n",
      "Epoch 4/10, Loss: 0.4254, Test Accuracy: 0.90%\n",
      "Train Epoch: 5 [0/60000 (0%)]\tLoss: 0.409381\n",
      "Train Epoch: 5 [32000/60000 (53%)]\tLoss: 0.341184\n",
      "\n",
      "Test set: Average loss: 0.3733, Accuracy: 9009/10000 (90%)\n",
      "\n",
      "Epoch 5/10, Loss: 0.4022, Test Accuracy: 0.90%\n",
      "Train Epoch: 6 [0/60000 (0%)]\tLoss: 0.353862\n",
      "Train Epoch: 6 [32000/60000 (53%)]\tLoss: 0.346158\n",
      "\n",
      "Test set: Average loss: 0.3604, Accuracy: 9028/10000 (90%)\n",
      "\n",
      "Epoch 6/10, Loss: 0.3859, Test Accuracy: 0.90%\n",
      "Train Epoch: 7 [0/60000 (0%)]\tLoss: 0.378912\n",
      "Train Epoch: 7 [32000/60000 (53%)]\tLoss: 0.298500\n",
      "\n",
      "Test set: Average loss: 0.3505, Accuracy: 9055/10000 (91%)\n",
      "\n",
      "Epoch 7/10, Loss: 0.3737, Test Accuracy: 0.91%\n",
      "Train Epoch: 8 [0/60000 (0%)]\tLoss: 0.294428\n",
      "Train Epoch: 8 [32000/60000 (53%)]\tLoss: 0.331988\n",
      "\n",
      "Test set: Average loss: 0.3425, Accuracy: 9068/10000 (91%)\n",
      "\n",
      "Epoch 8/10, Loss: 0.3641, Test Accuracy: 0.91%\n",
      "Train Epoch: 9 [0/60000 (0%)]\tLoss: 0.326541\n",
      "Train Epoch: 9 [32000/60000 (53%)]\tLoss: 0.442721\n",
      "\n",
      "Test set: Average loss: 0.3365, Accuracy: 9070/10000 (91%)\n",
      "\n",
      "Epoch 9/10, Loss: 0.3562, Test Accuracy: 0.91%\n",
      "Train Epoch: 10 [0/60000 (0%)]\tLoss: 0.175908\n",
      "Train Epoch: 10 [32000/60000 (53%)]\tLoss: 0.414934\n",
      "\n",
      "Test set: Average loss: 0.3309, Accuracy: 9082/10000 (91%)\n",
      "\n",
      "Epoch 10/10, Loss: 0.3499, Test Accuracy: 0.91%\n",
      "Finished training oneLayer model\n",
      "\n",
      "Training MLP model\n",
      "\n",
      "Train Epoch: 1 [0/60000 (0%)]\tLoss: 2.300566\n",
      "Train Epoch: 1 [32000/60000 (53%)]\tLoss: 2.264323\n",
      "\n",
      "Test set: Average loss: 2.2287, Accuracy: 6080/10000 (61%)\n",
      "\n",
      "Epoch 1/10, Loss: 2.2705, Test Accuracy: 0.61%\n",
      "Train Epoch: 2 [0/60000 (0%)]\tLoss: 2.225215\n",
      "Train Epoch: 2 [32000/60000 (53%)]\tLoss: 2.154247\n",
      "\n",
      "Test set: Average loss: 2.0463, Accuracy: 6628/10000 (66%)\n",
      "\n",
      "Epoch 2/10, Loss: 2.1582, Test Accuracy: 0.66%\n",
      "Train Epoch: 3 [0/60000 (0%)]\tLoss: 2.051616\n",
      "Train Epoch: 3 [32000/60000 (53%)]\tLoss: 1.858933\n",
      "\n",
      "Test set: Average loss: 1.5124, Accuracy: 6871/10000 (69%)\n",
      "\n",
      "Epoch 3/10, Loss: 1.8278, Test Accuracy: 0.69%\n",
      "Train Epoch: 4 [0/60000 (0%)]\tLoss: 1.439295\n",
      "Train Epoch: 4 [32000/60000 (53%)]\tLoss: 1.140426\n",
      "\n",
      "Test set: Average loss: 0.9047, Accuracy: 8049/10000 (80%)\n",
      "\n",
      "Epoch 4/10, Loss: 1.1998, Test Accuracy: 0.80%\n",
      "Train Epoch: 5 [0/60000 (0%)]\tLoss: 0.901584\n",
      "Train Epoch: 5 [32000/60000 (53%)]\tLoss: 0.652159\n",
      "\n",
      "Test set: Average loss: 0.6366, Accuracy: 8409/10000 (84%)\n",
      "\n",
      "Epoch 5/10, Loss: 0.7723, Test Accuracy: 0.84%\n",
      "Train Epoch: 6 [0/60000 (0%)]\tLoss: 0.538222\n",
      "Train Epoch: 6 [32000/60000 (53%)]\tLoss: 0.547186\n",
      "\n",
      "Test set: Average loss: 0.5155, Accuracy: 8622/10000 (86%)\n",
      "\n",
      "Epoch 6/10, Loss: 0.5897, Test Accuracy: 0.86%\n",
      "Train Epoch: 7 [0/60000 (0%)]\tLoss: 0.731951\n",
      "Train Epoch: 7 [32000/60000 (53%)]\tLoss: 0.612832\n",
      "\n",
      "Test set: Average loss: 0.4484, Accuracy: 8749/10000 (87%)\n",
      "\n",
      "Epoch 7/10, Loss: 0.4982, Test Accuracy: 0.87%\n",
      "Train Epoch: 8 [0/60000 (0%)]\tLoss: 0.529762\n",
      "Train Epoch: 8 [32000/60000 (53%)]\tLoss: 0.340743\n",
      "\n",
      "Test set: Average loss: 0.4051, Accuracy: 8841/10000 (88%)\n",
      "\n",
      "Epoch 8/10, Loss: 0.4430, Test Accuracy: 0.88%\n",
      "Train Epoch: 9 [0/60000 (0%)]\tLoss: 0.303134\n",
      "Train Epoch: 9 [32000/60000 (53%)]\tLoss: 0.501817\n",
      "\n",
      "Test set: Average loss: 0.3749, Accuracy: 8915/10000 (89%)\n",
      "\n",
      "Epoch 9/10, Loss: 0.4062, Test Accuracy: 0.89%\n",
      "Train Epoch: 10 [0/60000 (0%)]\tLoss: 0.398259\n"
     ]
    }
   ],
   "source": [
    "\n",
    "\n",
    "device = torch.device(\"cuda\" if torch.cuda.is_available() else \"cpu\")\n",
    "device = 'mps'\n",
    "batch_size = 64\n",
    "num_epochs = 10\n",
    "lr = 0.001\n",
    "\n",
    "\n",
    "\n",
    "train_loader = DataLoader(dataset=train_dataset, batch_size=batch_size, shuffle=True)\n",
    "test_loader = DataLoader(dataset=test_dataset, batch_size=batch_size, shuffle=False)\n",
    "\n",
    "models = [OneLayerNet(), MultiLayerPerceptrionNet(), ConvNet()]\n",
    "model_names = ['oneLayer', 'MLP', 'Conv']\n",
    "train_losses_list = []\n",
    "test_accuracies_list = []\n",
    "\n",
    "for model,name in zip(models, model_names):\n",
    "  print(f'Training {name} model\\n')\n",
    "\n",
    "  train_losses, test_accuracy = train_and_evaluate(model, train_loader, test_loader, num_epochs, lr)\n",
    "\n",
    "  print(f'Finished training {name} model\\n')\n",
    "\n",
    "  train_losses_list.append(train_losses)\n",
    "  test_accuracies_list.append(test_accuracy)\n"
   ]
  },
  {
   "cell_type": "code",
   "execution_count": null,
   "metadata": {
    "colab": {
     "base_uri": "https://localhost:8080/",
     "height": 957
    },
    "id": "SB4-tMW3jCWe",
    "outputId": "4a7f7ea2-dc7c-45b0-e34e-5865fb9d36e3"
   },
   "outputs": [],
   "source": [
    "plt.figure(figsize=(12, 5))\n",
    "for i, name in enumerate(model_names):\n",
    "    plt.plot(train_losses_list[i], label=name)\n",
    "\n",
    "plt.xlabel('Epoch')\n",
    "plt.ylabel('Training Loss')\n",
    "plt.title('Training Loss for Each Model')\n",
    "plt.legend()\n",
    "plt.show()\n",
    "\n",
    "# Plot test accuracy\n",
    "plt.figure(figsize=(12, 5))\n",
    "for i, name in enumerate(model_names):\n",
    "    plt.plot(test_accuracies_list[i], label=name)\n",
    "plt.xlabel('Epoch')\n",
    "plt.ylabel('Test Accuracy (%)')\n",
    "plt.title('Test Accuracy for Each Model')\n",
    "plt.legend()\n",
    "plt.show()"
   ]
  },
  {
   "cell_type": "markdown",
   "metadata": {
    "id": "UxcUSgMjqh9c"
   },
   "source": [
    "# Show parameters"
   ]
  },
  {
   "cell_type": "code",
   "execution_count": null,
   "metadata": {
    "colab": {
     "base_uri": "https://localhost:8080/"
    },
    "id": "JmVtn5h3qN5b",
    "outputId": "2a4402fd-2d05-424c-9fdc-c48cb15308f3"
   },
   "outputs": [],
   "source": [
    "for model in models:\n",
    "  summary(model, (1, 28, 28))"
   ]
  }
 ],
 "metadata": {
  "accelerator": "GPU",
  "colab": {
   "authorship_tag": "ABX9TyOkl8/IT1dn/b83QEwOritb",
   "gpuType": "T4",
   "include_colab_link": true,
   "provenance": [],
   "toc_visible": true
  },
  "kernelspec": {
   "display_name": "Python 3 (ipykernel)",
   "language": "python",
   "name": "python3"
  },
  "language_info": {
   "codemirror_mode": {
    "name": "ipython",
    "version": 3
   },
   "file_extension": ".py",
   "mimetype": "text/x-python",
   "name": "python",
   "nbconvert_exporter": "python",
   "pygments_lexer": "ipython3",
   "version": "3.12.3"
  }
 },
 "nbformat": 4,
 "nbformat_minor": 4
}
